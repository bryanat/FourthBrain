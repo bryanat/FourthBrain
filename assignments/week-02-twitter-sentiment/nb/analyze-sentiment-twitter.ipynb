{
 "cells": [
  {
   "cell_type": "markdown",
   "id": "24d097db",
   "metadata": {},
   "source": [
    "<p align = \"center\" draggable=”false” ><img src=\"https://user-images.githubusercontent.com/37101144/161836199-fdb0219d-0361-4988-bf26-48b0fad160a3.png\"\n",
    "     width=\"200px\"\n",
    "     height=\"auto\"/>\n",
    "</p>\n",
    "\n",
    "# <h1 align=\"center\" id=\"heading\">Sentiment Analysis of Twitter Data</h1>\n",
    "\n",
    "<hr>\n",
    "\n",
    "\n",
    "### ☑️ Objectives\n",
    "At the end of this session, you will be able to:\n",
    "- [ ] Understand how to find and run pre-trained models\n",
    "- [ ] Evaluate results from pre-trained models\n",
    "- [ ] Run a pre-trained model using real twitter data\n",
    "\n",
    "\n",
    "### 🔨 Pre-Assignment\n",
    "\n",
    "Create a new Conda environment for sentiment anaylsis (sa)\n",
    "\n",
    "```bash\n",
    "  conda create -n sa python=3.8 jupyter -y\n",
    "```\n",
    "\n",
    "Activate your new environment\n",
    "```bash\n",
    "  conda activate sa\n",
    "```\n",
    "\n",
    "Open the jupyter-notebook\n",
    "```bash\n",
    "  jupyter-notebook\n",
    "```\n",
    "\n",
    "Navigate through the repo in the notebook to find `imports.ipynb` for this week and open it.\n",
    "\n",
    "Run all of the cells in the notebook.\n",
    "\n",
    "\n",
    "### Background\n",
    "Please review the weekly narrative [here](https://www.notion.so/Week-2-Data-Centric-AI-the-AI-Product-Lifecycle-72a84c1517b44fcbb3e6bd11d47477dc#2b73937612bb46559f5b91dc2bf55e7d)\n",
    "\n",
    "\n"
   ]
  },
  {
   "cell_type": "markdown",
   "id": "b3934e6e",
   "metadata": {},
   "source": [
    "<hr>"
   ]
  },
  {
   "cell_type": "markdown",
   "id": "d1a5ab14",
   "metadata": {},
   "source": [
    "## 🚀 Let's Get Started"
   ]
  },
  {
   "attachments": {},
   "cell_type": "markdown",
   "id": "1d59e00d",
   "metadata": {},
   "source": [
    "<u>Breakout Group Members:</u>\n",
    "- Arsalan\n",
    "- Pano\n",
    "- Bryan"
   ]
  },
  {
   "cell_type": "code",
   "execution_count": 1,
   "id": "c1406409",
   "metadata": {},
   "outputs": [
    {
     "name": "stdout",
     "output_type": "stream",
     "text": [
      "# conda environments:\n",
      "#\n",
      "base                     /home/bryanat/anaconda3\n",
      "UnityDRL                 /home/bryanat/anaconda3/envs/UnityDRL\n",
      "UnityDRL-Box1            /home/bryanat/anaconda3/envs/UnityDRL-Box1\n",
      "twitterenv            *  /home/bryanat/anaconda3/envs/twitterenv\n",
      "\n"
     ]
    }
   ],
   "source": [
    "# Make sure we are in the right environment\n",
    "!conda env list # twitterenv"
   ]
  },
  {
   "cell_type": "markdown",
   "id": "bea542cb",
   "metadata": {},
   "source": [
    "Let's first start with our imports"
   ]
  },
  {
   "cell_type": "code",
   "execution_count": 2,
   "id": "cb536877",
   "metadata": {},
   "outputs": [
    {
     "name": "stdout",
     "output_type": "stream",
     "text": [
      "Collecting transformers\n",
      "  Using cached transformers-4.25.1-py3-none-any.whl (5.8 MB)\n",
      "Collecting huggingface-hub<1.0,>=0.10.0\n",
      "  Using cached huggingface_hub-0.11.1-py3-none-any.whl (182 kB)\n",
      "Collecting requests\n",
      "  Using cached requests-2.28.1-py3-none-any.whl (62 kB)\n",
      "Collecting regex!=2019.12.17\n",
      "  Using cached regex-2022.10.31-cp39-cp39-manylinux_2_17_x86_64.manylinux2014_x86_64.whl (769 kB)\n",
      "Collecting tokenizers!=0.11.3,<0.14,>=0.11.1\n",
      "  Using cached tokenizers-0.13.2-cp39-cp39-manylinux_2_17_x86_64.manylinux2014_x86_64.whl (7.6 MB)\n",
      "Requirement already satisfied: packaging>=20.0 in /home/bryanat/anaconda3/envs/twitterenv/lib/python3.9/site-packages (from transformers) (21.3)\n",
      "Collecting pyyaml>=5.1\n",
      "  Using cached PyYAML-6.0-cp39-cp39-manylinux_2_5_x86_64.manylinux1_x86_64.manylinux_2_12_x86_64.manylinux2010_x86_64.whl (661 kB)\n",
      "Collecting numpy>=1.17\n",
      "  Using cached numpy-1.23.5-cp39-cp39-manylinux_2_17_x86_64.manylinux2014_x86_64.whl (17.1 MB)\n",
      "Collecting filelock\n",
      "  Using cached filelock-3.8.2-py3-none-any.whl (10 kB)\n",
      "Collecting tqdm>=4.27\n",
      "  Using cached tqdm-4.64.1-py2.py3-none-any.whl (78 kB)\n",
      "Collecting typing-extensions>=3.7.4.3\n",
      "  Using cached typing_extensions-4.4.0-py3-none-any.whl (26 kB)\n",
      "Requirement already satisfied: pyparsing!=3.0.5,>=2.0.2 in /home/bryanat/anaconda3/envs/twitterenv/lib/python3.9/site-packages (from packaging>=20.0->transformers) (3.0.9)\n",
      "Collecting charset-normalizer<3,>=2\n",
      "  Using cached charset_normalizer-2.1.1-py3-none-any.whl (39 kB)\n",
      "Collecting idna<4,>=2.5\n",
      "  Using cached idna-3.4-py3-none-any.whl (61 kB)\n",
      "Collecting urllib3<1.27,>=1.21.1\n",
      "  Using cached urllib3-1.26.13-py2.py3-none-any.whl (140 kB)\n",
      "Requirement already satisfied: certifi>=2017.4.17 in /home/bryanat/anaconda3/envs/twitterenv/lib/python3.9/site-packages (from requests->transformers) (2022.9.24)\n",
      "Installing collected packages: tokenizers, urllib3, typing-extensions, tqdm, regex, pyyaml, numpy, idna, filelock, charset-normalizer, requests, huggingface-hub, transformers\n",
      "Successfully installed charset-normalizer-2.1.1 filelock-3.8.2 huggingface-hub-0.11.1 idna-3.4 numpy-1.23.5 pyyaml-6.0 regex-2022.10.31 requests-2.28.1 tokenizers-0.13.2 tqdm-4.64.1 transformers-4.25.1 typing-extensions-4.4.0 urllib3-1.26.13\n",
      "Collecting torch\n",
      "  Downloading torch-1.13.1-cp39-cp39-manylinux1_x86_64.whl (887.4 MB)\n",
      "\u001b[2K     \u001b[38;2;114;156;31m━━━━━━━━━━━━━━━━━━━━━━━━━━━━━━━━━━━━━━━\u001b[0m \u001b[32m887.4/887.4 MB\u001b[0m \u001b[31m1.3 MB/s\u001b[0m eta \u001b[36m0:00:00\u001b[0mm eta \u001b[36m0:00:01\u001b[0m[36m0:00:06\u001b[0m\n",
      "\u001b[?25hCollecting nvidia-cublas-cu11==11.10.3.66\n",
      "  Using cached nvidia_cublas_cu11-11.10.3.66-py3-none-manylinux1_x86_64.whl (317.1 MB)\n",
      "Collecting nvidia-cudnn-cu11==8.5.0.96\n",
      "  Using cached nvidia_cudnn_cu11-8.5.0.96-2-py3-none-manylinux1_x86_64.whl (557.1 MB)\n",
      "Collecting nvidia-cuda-nvrtc-cu11==11.7.99\n",
      "  Using cached nvidia_cuda_nvrtc_cu11-11.7.99-2-py3-none-manylinux1_x86_64.whl (21.0 MB)\n",
      "Collecting nvidia-cuda-runtime-cu11==11.7.99\n",
      "  Using cached nvidia_cuda_runtime_cu11-11.7.99-py3-none-manylinux1_x86_64.whl (849 kB)\n",
      "Requirement already satisfied: typing-extensions in /home/bryanat/anaconda3/envs/twitterenv/lib/python3.9/site-packages (from torch) (4.4.0)\n",
      "Requirement already satisfied: wheel in /home/bryanat/anaconda3/envs/twitterenv/lib/python3.9/site-packages (from nvidia-cublas-cu11==11.10.3.66->torch) (0.37.1)\n",
      "Requirement already satisfied: setuptools in /home/bryanat/anaconda3/envs/twitterenv/lib/python3.9/site-packages (from nvidia-cublas-cu11==11.10.3.66->torch) (65.5.0)\n",
      "Installing collected packages: nvidia-cuda-runtime-cu11, nvidia-cuda-nvrtc-cu11, nvidia-cublas-cu11, nvidia-cudnn-cu11, torch\n",
      "Successfully installed nvidia-cublas-cu11-11.10.3.66 nvidia-cuda-nvrtc-cu11-11.7.99 nvidia-cuda-runtime-cu11-11.7.99 nvidia-cudnn-cu11-8.5.0.96 torch-1.13.1\n",
      "Collecting emoji==0.6.0\n",
      "  Using cached emoji-0.6.0.tar.gz (51 kB)\n",
      "  Preparing metadata (setup.py) ... \u001b[?25ldone\n",
      "\u001b[?25hBuilding wheels for collected packages: emoji\n",
      "  Building wheel for emoji (setup.py) ... \u001b[?25ldone\n",
      "\u001b[?25h  Created wheel for emoji: filename=emoji-0.6.0-py3-none-any.whl size=49719 sha256=3a3a5151abf8afa98bb3fe0edf25ac49d9480e49cd6317f9d3aa90318cd4d84e\n",
      "  Stored in directory: /home/bryanat/.cache/pip/wheels/64/d7/f6/810e10f90c6d94240ff5188f558ff7a6cba44f8d6d073b92a9\n",
      "Successfully built emoji\n",
      "Installing collected packages: emoji\n",
      "Successfully installed emoji-0.6.0\n"
     ]
    }
   ],
   "source": [
    "!pip3 install transformers\n",
    "!pip3 install torch\n",
    "!pip3 install emoji==0.6.0"
   ]
  },
  {
   "cell_type": "code",
   "execution_count": 6,
   "id": "f67dcb2b",
   "metadata": {
    "scrolled": true
   },
   "outputs": [],
   "source": [
    "from transformers import pipeline # Hugging face pipeline to load online models\n",
    "\n",
    "#create a pipeline wrapper with specific BERT model for analyzing twitter tweet sentiments\n",
    "pinstall = pipeline(model=\"finiteautomata/bertweet-base-sentiment-analysis\") # downloading/preloading model for later"
   ]
  },
  {
   "cell_type": "code",
   "execution_count": 7,
   "id": "8628030b",
   "metadata": {},
   "outputs": [],
   "source": [
    "import csv # Allows us to read and write csv files\n",
    "from pprint import pprint # Make our print functions easier to read"
   ]
  },
  {
   "cell_type": "markdown",
   "id": "62d4028f",
   "metadata": {},
   "source": [
    "🤗 Transformers provides thousands of pretrained models to perform tasks on different modalities such as text, vision, and audio.\n",
    "\n",
    "These models can be applied on:\n",
    "- 📝 Text, for tasks like text classification, information extraction, question answering, summarization, translation, text generation, in over 100 languages.\n",
    "\n",
    "- 🖼️ Images, for tasks like image classification, object detection, and segmentation.\n",
    "- 🗣️ Audio, for tasks like speech recognition and audio classification.\n",
    "\n",
    "This is the pipeline method in transformers that we'll be using to analyze our sentiment data. Since we're not specifying a pretrained model, the pipeline has a default sentiment analysis model called [distilbert-base-uncased-finetuned-sst-2-english](https://huggingface.co/distilbert-base-uncased-finetuned-sst-2-english)."
   ]
  },
  {
   "cell_type": "code",
   "execution_count": 8,
   "id": "9c3e6e41",
   "metadata": {},
   "outputs": [
    {
     "name": "stderr",
     "output_type": "stream",
     "text": [
      "No model was supplied, defaulted to distilbert-base-uncased-finetuned-sst-2-english and revision af0f99b (https://huggingface.co/distilbert-base-uncased-finetuned-sst-2-english).\n",
      "Using a pipeline without specifying a model name and revision in production is not recommended.\n",
      "Downloading: 100%|██████████| 268M/268M [01:04<00:00, 4.18MB/s] \n",
      "Downloading: 100%|██████████| 48.0/48.0 [00:00<00:00, 38.1kB/s]\n",
      "Downloading: 100%|██████████| 232k/232k [00:00<00:00, 1.54MB/s]\n"
     ]
    }
   ],
   "source": [
    "sentiment_pipeline = pipeline(\"sentiment-analysis\")"
   ]
  },
  {
   "cell_type": "markdown",
   "id": "e30b34b2",
   "metadata": {},
   "source": [
    "In this example, we'll supply two polar sentiments and test out the model pipeline."
   ]
  },
  {
   "cell_type": "code",
   "execution_count": 24,
   "id": "de41c494",
   "metadata": {},
   "outputs": [
    {
     "data": {
      "text/plain": [
       "[{'label': 'POSITIVE', 'score': 0.9998694658279419},\n",
       " {'label': 'NEGATIVE', 'score': 0.994263231754303},\n",
       " {'label': 'POSITIVE', 'score': 0.999477207660675},\n",
       " {'label': 'NEGATIVE', 'score': 0.998320996761322},\n",
       " {'label': 'POSITIVE', 'score': 0.99949049949646},\n",
       " {'label': 'NEGATIVE', 'score': 0.9978708028793335},\n",
       " {'label': 'POSITIVE', 'score': 0.9840631484985352},\n",
       " {'label': 'NEGATIVE', 'score': 0.9997370839118958}]"
      ]
     },
     "execution_count": 24,
     "metadata": {},
     "output_type": "execute_result"
    }
   ],
   "source": [
    "data = [\"This is great!\", \"Oh no!\", \"Oh yeah!\", \"uhmmmmm...\", \"kinda good kinda bad\", \"why so overconfident on unclear\", \"#apple\", \"broken model?\"]\n",
    "sentiment_pipeline(data) "
   ]
  },
  {
   "attachments": {},
   "cell_type": "markdown",
   "id": "a9709a48",
   "metadata": {},
   "source": [
    "#### Note: most of the `scores` confidence are close to 1 (0.98,1.00), even for ambiguous sentiments"
   ]
  },
  {
   "cell_type": "markdown",
   "id": "39d04139",
   "metadata": {},
   "source": [
    "The `label` in this case indicates the prediction for the sentiment type.\n",
    "\n",
    "The `score` indicates the confidence of the prediction (between 0 and 1).\n",
    "\n",
    "Since our sentiments were very polar, it was easier for the model to predict the sentiment type.\n",
    "\n",
    "Let's see what happens when we use a less clear example:"
   ]
  },
  {
   "cell_type": "code",
   "execution_count": 16,
   "id": "c077f881",
   "metadata": {},
   "outputs": [
    {
     "data": {
      "text/plain": [
       "[{'label': 'NEGATIVE', 'score': 0.9955561757087708},\n",
       " {'label': 'NEGATIVE', 'score': 0.9860844016075134}]"
      ]
     },
     "execution_count": 16,
     "metadata": {},
     "output_type": "execute_result"
    }
   ],
   "source": [
    "challenging_sentiments = [\"I don't think freddriq should leave, he's been helpful.\",\n",
    "                          \"Is that the lake we went to last month?\"]\n",
    "sentiment_pipeline(challenging_sentiments)\n",
    "\n",
    "# Even less clear examples have high confidence of prediction scores."
   ]
  },
  {
   "cell_type": "markdown",
   "id": "c64b62d4",
   "metadata": {},
   "source": [
    "<hr>\n",
    "\n",
    "### Loading the Twitter Data\n",
    "\n",
    "Let's play with some twitter data. We'll be using a modified version of the [Elon Musk twitter dataset on Kaggle](https://www.kaggle.com/datasets/andradaolteanu/all-elon-musks-tweets)."
   ]
  },
  {
   "cell_type": "code",
   "execution_count": 17,
   "id": "4c1a44d0",
   "metadata": {},
   "outputs": [
    {
     "name": "stdout",
     "output_type": "stream",
     "text": [
      "['@vincent13031925 For now. Costs are decreasing rapidly.',\n",
      " 'Love this beautiful shot',\n",
      " '@agnostoxxx @CathieDWood @ARKInvest Trust the shrub',\n",
      " 'The art In Cyberpunk is incredible',\n",
      " '@itsALLrisky 🤣🤣',\n",
      " '@seinfeldguru @WholeMarsBlog Nope haha',\n",
      " '@WholeMarsBlog If you don’t say anything &amp; engage Autopilot, it will '\n",
      " 'soon guess based on time of day, taking you home or to work or to what’s on '\n",
      " 'your calendar',\n",
      " '@DeltavPhotos @PortCanaveral That rocket is a hardcore veteran of many '\n",
      " 'missions',\n",
      " 'Blimps rock  https://t.co/e8cu5FkNOI',\n",
      " '@engineers_feed Due to lower gravity, you can travel from surface of Mars to '\n",
      " 'surface of Earth fairly easily with a single stage rocket. Earth to Mars is '\n",
      " 'vastly harder.',\n",
      " '@DrPhiltill Good thread',\n",
      " '@alexellisuk Pretty much',\n",
      " '@tesla_adri @WholeMarsBlog These things are best thought of as '\n",
      " 'probabilities. There are 5 forward-facing cameras. It is highly likely that '\n",
      " 'at least one of them will see multiple cars ahead.',\n",
      " '@WholeMarsBlog Sensors are a bitstream and cameras have several orders of '\n",
      " 'magnitude more bits/sec than radar (or lidar).   Radar must meaningfully '\n",
      " 'increase signal/noise of bitstream to be worth complexity of integrating '\n",
      " 'it.   As vision processing gets better, it just leaves radar far behind.',\n",
      " '@WholeMarsBlog When radar and vision disagree, which one do you believe? '\n",
      " 'Vision has much more precision, so better to double down on vision than do '\n",
      " 'sensor fusion.',\n",
      " '@WholeMarsBlog This is a major problem!',\n",
      " 'Just needs some legs',\n",
      " 'The Starship launch tower that catches the giant rocket booster is basically '\n",
      " 'Mechazilla',\n",
      " 'But wait how is the core of the earth lit by the sun? Stop asking '\n",
      " 'questions!!',\n",
      " 'Kong vs Godzilla has record for most meth ever consumed in a writer’s room',\n",
      " '@itsALLrisky 💯',\n",
      " '… going to moon very soon',\n",
      " '@Matsu_Kusarine @jagarikin Actually happened to me in Cyberpunk haha',\n",
      " '@TimBirks1 @Erdayastronaut @SpaceX Pretty much',\n",
      " '@memescryptor !',\n",
      " 'Where is Shrek 5!?  https://t.co/PqAZ5Mg8Es',\n",
      " '@AustinTeslaClub @OwenSparks_ @WholeMarsBlog Good point.   Next major '\n",
      " 'software rev will do much better with automating wipers, seat heating &amp; '\n",
      " 'defrost.   Probable seat settings just based on occupant mass distribution '\n",
      " 'should be possible.',\n",
      " '@Adamklotz_ @OwenSparks_ @WholeMarsBlog Yup',\n",
      " '@teslaownersSV @neuralink Turns out 🐒 love video games &amp; snacks just '\n",
      " 'like us!',\n",
      " 'It’s all about the cufflinks  https://t.co/elccqC0Zuf',\n",
      " '@chicago_glenn I feel like this sometimes',\n",
      " '@OwenSparks_ @WholeMarsBlog It will',\n",
      " '@OwenSparks_ @WholeMarsBlog Remove',\n",
      " '@w00ki33 @SpaceX @SuperclusterHQ Simulation is improving rendering '\n",
      " 'resolution  …',\n",
      " '@cleantechnica Congrats to NIO. That is a tough milestone.',\n",
      " '@WholeMarsBlog Almost ready with FSD Beta V9.0. Step change improvement is '\n",
      " 'massive, especially for weird corner cases &amp; bad weather. Pure vision, '\n",
      " 'no radar.',\n",
      " 'Thanks to all that helped SpaceX!',\n",
      " 'Just read it. Book is accurate.',\n",
      " '@TeslaGong Yeah',\n",
      " '@mikevanbus @TrungTPhan @neuralink Pretty much',\n",
      " ' https://t.co/XeQursZpvq',\n",
      " 'Soon our monkey will be on twitch &amp; discord haha',\n",
      " '@thenewsoncnbc @contessabrewer Good piece!',\n",
      " '@Kyler_Knoll @neuralink Comes with wireless charging baseball cap',\n",
      " '@TarekWaked @TechCrunch @etherington Pretty much 🤣🤣 Great episode!',\n",
      " 'A monkey is literally playing a video game telepathically using a brain '\n",
      " 'chip!!',\n",
      " '@lexfridman @neuralink Yes',\n",
      " 'The device is implanted flush with skull &amp; charges wirelessly, so you '\n",
      " 'look &amp; feel totally normal',\n",
      " '@IheartTesla Absolutely doable. Possibly as soon as Neuralink device version '\n",
      " '2, highly likely by version 3.',\n",
      " 'Later versions will be able to shunt signals from Neuralinks in brain to '\n",
      " 'Neuralinks in body motor/sensory neuron clusters, thus enabling, for '\n",
      " 'example, paraplegics to walk again',\n",
      " '@mindofkacper @neuralink Yes',\n",
      " 'First @Neuralink product will enable someone with paralysis to use a '\n",
      " 'smartphone with their mind faster than someone using thumbs',\n",
      " '@IheartTesla @neuralink Hopefully, later this year',\n",
      " '@tobyliiiiiiiiii Sure',\n",
      " 'Monkey plays Pong with his mind',\n",
      " '@dogeofficialceo @WatchersTank @SpaceX Looking at pups soon!',\n",
      " '@jordanxmajel @WatchersTank @SpaceX Shock absorption is built into tower '\n",
      " 'arms. Since tower is ground side, it can use a lot more mass to arrest '\n",
      " 'booster downward momentum.',\n",
      " '@jordanxmajel @WatchersTank @SpaceX Load points just below the grid fins',\n",
      " '@WatchersTank @SpaceX Just one skyscraper catching another nbd haha',\n",
      " 'Thanks Tesla suppliers for providing us with critical parts!',\n",
      " '@MarkJam93765764 @IvanEscobosa A tidal wave of vaccine is being produced!',\n",
      " '@jgrano305 Probably J&amp;J, but BioNtech &amp; Moderna are good too. Some '\n",
      " 'debate imo as to whether a second synthetic mRNA shot is really needed, but '\n",
      " 'the first is a no-brainer.',\n",
      " '@IvanEscobosa Latter',\n",
      " 'To be clear, I do support vaccines in general &amp; covid vaccines '\n",
      " 'specifically. The science is unequivocal.   In very rare cases, there is an '\n",
      " 'allergic reaction, but this is easily addressed with an EpiPen.',\n",
      " '@DavidWillisSLS @_Jevis_ @PPathole Needs legs for moon &amp; Mars',\n",
      " '@SciGuySpace Global payload to orbit is the key metric',\n",
      " '@Julius_Burton @Erdayastronaut @DJSnM @NASASpaceflight @ChrisG_NSF '\n",
      " '@thejackbeyer @FelixSchlang Nice',\n",
      " '@_Jevis_ @PPathole Ideal scenario imo is catching Starship in horizontal '\n",
      " '“glide” with no landing burn, although that is quite a challenge for the '\n",
      " 'tower! Next best is catching with tower, with emergency pad landing mode on '\n",
      " 'skirt (no legs).',\n",
      " '@PPathole Starship booster, largest flying object ever designed, will be '\n",
      " 'caught out of sky by launch tower. Big step forward, as reflight can be done '\n",
      " 'in under an hour.',\n",
      " '@WholeMarsBlog Well-written and fair, much like his articles on space',\n",
      " '@louisssdev @flcnhvy Coming soon. Crazy number of launches this year!',\n",
      " '@flcnhvy They will be recovered from the water &amp; reused',\n",
      " '“Tanks for the memery!” – Panzer of the Lake',\n",
      " '@CathieDWood @wintonARK @ARKInvest What do you think of the unusually high '\n",
      " 'ratio of S&amp;P market cap to GDP?',\n",
      " '@ID_AA_Carmack Some kind of ELO level, updated once or twice a year based on '\n",
      " 'what someone actually got done, might be most effective. Important that it '\n",
      " 'go both up *and* down.',\n",
      " '@Thomas38697956 New &amp; improved version!',\n",
      " '@Teslarati @ResidentSponge Special mention of Tesla China',\n",
      " '@shbzz Obv',\n",
      " '@Teslarati @ResidentSponge Great work by Tesla team!',\n",
      " '@EvaFoxU Nice',\n",
      " 'The Earth is not flat, it’s a hollow globe &amp; Donkey King lives there!',\n",
      " '@EvaFoxU Those two really could have come in handy for the stuck ship!',\n",
      " '@EvaFoxU Last Kingdom vs Vikings',\n",
      " '@spacex360 Ascent phase, transition to horizontal &amp; control during free '\n",
      " 'fall were good.   A (relatively) small CH4 leak led to fire on engine 2 '\n",
      " '&amp; fried part of avionics, causing hard start attempting landing burn in '\n",
      " 'CH4 turbopump.   This is getting fixed 6 ways to Sunday.',\n",
      " 'Godzilla vs Kong is so amaze much wow! Most insane movie I’ve ever seen! '\n",
      " 'Love letter to conspiracy theorists! And yet heartwarming in the end.',\n",
      " '@TerminalCount The Starships feast in Valhalla!',\n",
      " '@TerminalCount One of the greatest things I’ve ever seen',\n",
      " '@floko12022021 @HamblinZeke @katlinegrey Ich habe ein Semester Deutsch an '\n",
      " 'der Universität studiert usw',\n",
      " '@HamblinZeke @katlinegrey Haha Falcon? Nein!',\n",
      " '@tobyliiiiiiiiii @katlinegrey I recommend propulsive landing, as that is '\n",
      " 'extensible to planets, moons &amp; asteroids. Wings &amp; runways are '\n",
      " 'limited to Earth.',\n",
      " '@PPathole @katlinegrey For practical purposes, there is no limit. It will '\n",
      " 'just get increasingly difficult to service.',\n",
      " '@katlinegrey This a good path, but I recommend aiming for full reusability',\n",
      " 'Urgent need to build more housing in greater Austin area!',\n",
      " 'Austin++',\n",
      " 'No it doesn’t hurt at all 🩸  https://t.co/NnL6o1si0V',\n",
      " '@allrocketsboi True',\n",
      " '@GerberKawasaki I fried a lot of neurons on that problem!',\n",
      " 'Me in my sick new car (left him the money)  https://t.co/EGaY1FVfHm',\n",
      " '@TrungTPhan Had no money to invest in Zip2, but my founder equity yielded '\n",
      " '~$15M after tax. Of that, I rolled ~$10M into PayPal, which yielded ~$180M, '\n",
      " 'then …   Basic principle is that I would not ask investors to risk money on '\n",
      " 'my company if I would not also do so.',\n",
      " '@Gfilche Major new Supercharger station coming to Santa Monica soon! Hoping '\n",
      " 'to have 50’s diner &amp; 100 best movie clips playing too. Thanks Santa '\n",
      " 'Monica city!']\n"
     ]
    }
   ],
   "source": [
    "with open('../data/elonmusk_tweets.csv', newline='', encoding='utf8') as f:\n",
    "    tweets=[]\n",
    "    reader = csv.reader(f)\n",
    "    twitter_data = list(reader)\n",
    "    for tweet in twitter_data:\n",
    "        tweets.append(tweet[0])\n",
    "\n",
    "pprint(tweets[:100]) # print first 100 tweets"
   ]
  },
  {
   "cell_type": "markdown",
   "id": "e630a8f1",
   "metadata": {},
   "source": [
    "First things first - let's look at the sentiment as determined by the [distilbert-base-uncased-finetuned-sst-2-english](https://huggingface.co/distilbert-base-uncased-finetuned-sst-2-english) (default model) in the pipeline."
   ]
  },
  {
   "cell_type": "code",
   "execution_count": 19,
   "id": "42b10279",
   "metadata": {},
   "outputs": [],
   "source": [
    "distil_sentiment = sentiment_pipeline(tweets[0:100])"
   ]
  },
  {
   "cell_type": "code",
   "execution_count": 31,
   "id": "265cb6a2",
   "metadata": {},
   "outputs": [
    {
     "data": {
      "text/plain": [
       "[{'label': 'NEGATIVE', 'score': 0.9963656663894653},\n",
       " {'label': 'POSITIVE', 'score': 0.9998824596405029},\n",
       " {'label': 'NEGATIVE', 'score': 0.8498324751853943},\n",
       " {'label': 'POSITIVE', 'score': 0.9998857975006104},\n",
       " {'label': 'NEGATIVE', 'score': 0.9839497804641724},\n",
       " {'label': 'NEGATIVE', 'score': 0.9933285713195801},\n",
       " {'label': 'NEGATIVE', 'score': 0.9917682409286499},\n",
       " {'label': 'POSITIVE', 'score': 0.9983181953430176},\n",
       " {'label': 'NEGATIVE', 'score': 0.9937851428985596},\n",
       " {'label': 'NEGATIVE', 'score': 0.9840983748435974},\n",
       " {'label': 'POSITIVE', 'score': 0.9970496892929077},\n",
       " {'label': 'POSITIVE', 'score': 0.996302604675293},\n",
       " {'label': 'NEGATIVE', 'score': 0.9142526388168335},\n",
       " {'label': 'NEGATIVE', 'score': 0.9978026747703552},\n",
       " {'label': 'NEGATIVE', 'score': 0.9946601986885071},\n",
       " {'label': 'NEGATIVE', 'score': 0.9995997548103333},\n",
       " {'label': 'NEGATIVE', 'score': 0.9987119436264038},\n",
       " {'label': 'NEGATIVE', 'score': 0.9935503005981445},\n",
       " {'label': 'NEGATIVE', 'score': 0.9984368681907654},\n",
       " {'label': 'POSITIVE', 'score': 0.6216015219688416},\n",
       " {'label': 'NEGATIVE', 'score': 0.9839497804641724},\n",
       " {'label': 'POSITIVE', 'score': 0.9950076341629028},\n",
       " {'label': 'NEGATIVE', 'score': 0.9860665202140808},\n",
       " {'label': 'POSITIVE', 'score': 0.9893965125083923},\n",
       " {'label': 'POSITIVE', 'score': 0.9468770027160645},\n",
       " {'label': 'NEGATIVE', 'score': 0.9977408647537231},\n",
       " {'label': 'NEGATIVE', 'score': 0.9840652346611023},\n",
       " {'label': 'NEGATIVE', 'score': 0.9497255086898804},\n",
       " {'label': 'POSITIVE', 'score': 0.9946696162223816},\n",
       " {'label': 'NEGATIVE', 'score': 0.9904018044471741},\n",
       " {'label': 'POSITIVE', 'score': 0.9829172492027283},\n",
       " {'label': 'POSITIVE', 'score': 0.9969479441642761},\n",
       " {'label': 'NEGATIVE', 'score': 0.9996249675750732},\n",
       " {'label': 'POSITIVE', 'score': 0.9960028529167175},\n",
       " {'label': 'NEGATIVE', 'score': 0.5542925000190735},\n",
       " {'label': 'NEGATIVE', 'score': 0.9983391761779785},\n",
       " {'label': 'POSITIVE', 'score': 0.9997740387916565},\n",
       " {'label': 'POSITIVE', 'score': 0.9998230338096619},\n",
       " {'label': 'POSITIVE', 'score': 0.9405809640884399},\n",
       " {'label': 'POSITIVE', 'score': 0.7976468801498413},\n",
       " {'label': 'NEGATIVE', 'score': 0.9930617213249207},\n",
       " {'label': 'NEGATIVE', 'score': 0.777531623840332},\n",
       " {'label': 'POSITIVE', 'score': 0.9995044469833374},\n",
       " {'label': 'NEGATIVE', 'score': 0.9503060579299927},\n",
       " {'label': 'POSITIVE', 'score': 0.9991528987884521},\n",
       " {'label': 'NEGATIVE', 'score': 0.9828632473945618},\n",
       " {'label': 'POSITIVE', 'score': 0.9900367259979248},\n",
       " {'label': 'NEGATIVE', 'score': 0.976280152797699},\n",
       " {'label': 'POSITIVE', 'score': 0.9892715215682983},\n",
       " {'label': 'POSITIVE', 'score': 0.9668128490447998},\n",
       " {'label': 'POSITIVE', 'score': 0.9911525845527649},\n",
       " {'label': 'NEGATIVE', 'score': 0.9954861998558044},\n",
       " {'label': 'POSITIVE', 'score': 0.9487370848655701},\n",
       " {'label': 'POSITIVE', 'score': 0.995344340801239},\n",
       " {'label': 'POSITIVE', 'score': 0.9260284900665283},\n",
       " {'label': 'POSITIVE', 'score': 0.7323375940322876},\n",
       " {'label': 'NEGATIVE', 'score': 0.6798871159553528},\n",
       " {'label': 'NEGATIVE', 'score': 0.9970796704292297},\n",
       " {'label': 'POSITIVE', 'score': 0.9031758904457092},\n",
       " {'label': 'POSITIVE', 'score': 0.9992316961288452},\n",
       " {'label': 'NEGATIVE', 'score': 0.8981127142906189},\n",
       " {'label': 'POSITIVE', 'score': 0.9446039199829102},\n",
       " {'label': 'NEGATIVE', 'score': 0.9267996549606323},\n",
       " {'label': 'NEGATIVE', 'score': 0.9591715931892395},\n",
       " {'label': 'NEGATIVE', 'score': 0.9956945180892944},\n",
       " {'label': 'POSITIVE', 'score': 0.963007390499115},\n",
       " {'label': 'NEGATIVE', 'score': 0.9263046979904175},\n",
       " {'label': 'POSITIVE', 'score': 0.969228208065033},\n",
       " {'label': 'POSITIVE', 'score': 0.9859389066696167},\n",
       " {'label': 'POSITIVE', 'score': 0.9997627139091492},\n",
       " {'label': 'POSITIVE', 'score': 0.9982032775878906},\n",
       " {'label': 'NEGATIVE', 'score': 0.9948424696922302},\n",
       " {'label': 'NEGATIVE', 'score': 0.9875006675720215},\n",
       " {'label': 'NEGATIVE', 'score': 0.9403653144836426},\n",
       " {'label': 'NEGATIVE', 'score': 0.539768636226654},\n",
       " {'label': 'POSITIVE', 'score': 0.9978938698768616},\n",
       " {'label': 'POSITIVE', 'score': 0.9549607038497925},\n",
       " {'label': 'NEGATIVE', 'score': 0.9856399297714233},\n",
       " {'label': 'POSITIVE', 'score': 0.9990309476852417},\n",
       " {'label': 'POSITIVE', 'score': 0.9986647367477417},\n",
       " {'label': 'NEGATIVE', 'score': 0.8099892735481262},\n",
       " {'label': 'NEGATIVE', 'score': 0.9986506104469299},\n",
       " {'label': 'NEGATIVE', 'score': 0.76192706823349},\n",
       " {'label': 'NEGATIVE', 'score': 0.9876651763916016},\n",
       " {'label': 'POSITIVE', 'score': 0.9997739195823669},\n",
       " {'label': 'POSITIVE', 'score': 0.9990227222442627},\n",
       " {'label': 'POSITIVE', 'score': 0.9997355341911316},\n",
       " {'label': 'NEGATIVE', 'score': 0.9928374886512756},\n",
       " {'label': 'NEGATIVE', 'score': 0.9968679547309875},\n",
       " {'label': 'POSITIVE', 'score': 0.9927840232849121},\n",
       " {'label': 'NEGATIVE', 'score': 0.9995256662368774},\n",
       " {'label': 'POSITIVE', 'score': 0.9894473552703857},\n",
       " {'label': 'POSITIVE', 'score': 0.9878185987472534},\n",
       " {'label': 'POSITIVE', 'score': 0.9987744688987732},\n",
       " {'label': 'POSITIVE', 'score': 0.9457862973213196},\n",
       " {'label': 'POSITIVE', 'score': 0.9979986548423767},\n",
       " {'label': 'NEGATIVE', 'score': 0.9920915365219116},\n",
       " {'label': 'NEGATIVE', 'score': 0.998769223690033},\n",
       " {'label': 'NEGATIVE', 'score': 0.9957596659660339},\n",
       " {'label': 'POSITIVE', 'score': 0.9988223910331726}]"
      ]
     },
     "execution_count": 31,
     "metadata": {},
     "output_type": "execute_result"
    }
   ],
   "source": [
    "distil_sentiment # looking at a sample of the labeled data before cumulating summary via collections.Counter"
   ]
  },
  {
   "cell_type": "markdown",
   "id": "8ce3fefd",
   "metadata": {},
   "source": [
    "Let's check out the distribution of positive/negative Tweets and see the breakdown using Python's 🐍 standard library `collections.Counter`!"
   ]
  },
  {
   "cell_type": "code",
   "execution_count": 22,
   "id": "971a841d",
   "metadata": {},
   "outputs": [
    {
     "name": "stdout",
     "output_type": "stream",
     "text": [
      "49 (49.00%) of the tweets classified are positive.\n",
      "51 (51.00%) of the tweets classified are negative.\n"
     ]
    }
   ],
   "source": [
    "from collections import Counter\n",
    "\n",
    "tweet_distro = Counter([x['label'] for x in distil_sentiment])\n",
    "pos_sent_count = tweet_distro['POSITIVE']\n",
    "neg_sent_count = tweet_distro['NEGATIVE']\n",
    "total_sent_count = sum(tweet_distro.values())\n",
    "\n",
    "print(f\"{pos_sent_count} ({pos_sent_count / total_sent_count * 100:.2f}%) of the tweets classified are positive.\")\n",
    "print(f\"{neg_sent_count} ({neg_sent_count / total_sent_count * 100:.2f}%) of the tweets classified are negative.\")"
   ]
  },
  {
   "cell_type": "markdown",
   "id": "42155a0c",
   "metadata": {},
   "source": [
    "Let's do that process again, but use a model with an additional potential label \"NEUTRAL\" called [bertweet-sentiment-analysis](https://huggingface.co/finiteautomata/bertweet-base-sentiment-analysis)\n",
    "\n",
    "To start - we'll build a pipeline with the new model by using the 🤗 Hugging Face address: `finiteautomata/bertweet-base-sentiment-analysis`"
   ]
  },
  {
   "cell_type": "code",
   "execution_count": 23,
   "id": "3fd6e37f",
   "metadata": {},
   "outputs": [],
   "source": [
    "bertweet_pipeline = pipeline(model=\"finiteautomata/bertweet-base-sentiment-analysis\")"
   ]
  },
  {
   "cell_type": "markdown",
   "id": "7025127d",
   "metadata": {},
   "source": [
    "Next, and the same as before, let's run the analysis on 100 of Elon's tweets."
   ]
  },
  {
   "cell_type": "code",
   "execution_count": 25,
   "id": "5daa650d",
   "metadata": {},
   "outputs": [],
   "source": [
    "bert_sentiment = bertweet_pipeline(tweets[0:100])"
   ]
  },
  {
   "cell_type": "markdown",
   "id": "6d8a316d",
   "metadata": {},
   "source": [
    "And then, let's check out the breakdown of positive, negative, AND neutral sentiments!"
   ]
  },
  {
   "cell_type": "code",
   "execution_count": 34,
   "id": "7dfb6cda",
   "metadata": {},
   "outputs": [
    {
     "data": {
      "text/plain": [
       "[{'label': 'NEU', 'score': 0.952393114566803},\n",
       " {'label': 'POS', 'score': 0.9909942746162415},\n",
       " {'label': 'NEU', 'score': 0.9733855128288269},\n",
       " {'label': 'POS', 'score': 0.9824265241622925},\n",
       " {'label': 'NEG', 'score': 0.9627320766448975},\n",
       " {'label': 'NEU', 'score': 0.8657805323600769},\n",
       " {'label': 'NEU', 'score': 0.926353394985199},\n",
       " {'label': 'NEU', 'score': 0.7412322163581848},\n",
       " {'label': 'POS', 'score': 0.6090270280838013},\n",
       " {'label': 'NEU', 'score': 0.9455981254577637},\n",
       " {'label': 'POS', 'score': 0.9056947231292725},\n",
       " {'label': 'NEU', 'score': 0.8189749121665955},\n",
       " {'label': 'NEU', 'score': 0.9333983659744263},\n",
       " {'label': 'NEU', 'score': 0.9051194190979004},\n",
       " {'label': 'NEU', 'score': 0.8837268948554993},\n",
       " {'label': 'NEG', 'score': 0.980315089225769},\n",
       " {'label': 'NEU', 'score': 0.9573647379875183},\n",
       " {'label': 'NEU', 'score': 0.9655561447143555},\n",
       " {'label': 'NEG', 'score': 0.8051009774208069},\n",
       " {'label': 'NEG', 'score': 0.76304030418396},\n",
       " {'label': 'NEG', 'score': 0.9622055292129517},\n",
       " {'label': 'NEU', 'score': 0.8779993653297424},\n",
       " {'label': 'NEU', 'score': 0.6798218488693237},\n",
       " {'label': 'NEU', 'score': 0.8584961295127869},\n",
       " {'label': 'POS', 'score': 0.5795774459838867},\n",
       " {'label': 'NEU', 'score': 0.9601939916610718},\n",
       " {'label': 'POS', 'score': 0.8940476775169373},\n",
       " {'label': 'NEU', 'score': 0.9327384233474731},\n",
       " {'label': 'POS', 'score': 0.9861819744110107},\n",
       " {'label': 'NEU', 'score': 0.9572324752807617},\n",
       " {'label': 'NEU', 'score': 0.9797588586807251},\n",
       " {'label': 'NEU', 'score': 0.9614052772521973},\n",
       " {'label': 'NEU', 'score': 0.7799426913261414},\n",
       " {'label': 'POS', 'score': 0.889965295791626},\n",
       " {'label': 'POS', 'score': 0.9890507459640503},\n",
       " {'label': 'NEU', 'score': 0.5329095721244812},\n",
       " {'label': 'POS', 'score': 0.9875401854515076},\n",
       " {'label': 'POS', 'score': 0.9889892935752869},\n",
       " {'label': 'NEU', 'score': 0.712155282497406},\n",
       " {'label': 'NEU', 'score': 0.93071448802948},\n",
       " {'label': 'NEU', 'score': 0.9159066677093506},\n",
       " {'label': 'POS', 'score': 0.5059618949890137},\n",
       " {'label': 'POS', 'score': 0.9562190175056458},\n",
       " {'label': 'NEU', 'score': 0.7741278409957886},\n",
       " {'label': 'POS', 'score': 0.9852230548858643},\n",
       " {'label': 'NEU', 'score': 0.6408323049545288},\n",
       " {'label': 'NEU', 'score': 0.8659393191337585},\n",
       " {'label': 'NEU', 'score': 0.6703440546989441},\n",
       " {'label': 'POS', 'score': 0.8802767395973206},\n",
       " {'label': 'NEU', 'score': 0.9263620972633362},\n",
       " {'label': 'NEU', 'score': 0.8623093366622925},\n",
       " {'label': 'NEG', 'score': 0.7609976530075073},\n",
       " {'label': 'POS', 'score': 0.8809716105461121},\n",
       " {'label': 'NEU', 'score': 0.9572345018386841},\n",
       " {'label': 'NEU', 'score': 0.9370954036712646},\n",
       " {'label': 'NEU', 'score': 0.50948166847229},\n",
       " {'label': 'NEU', 'score': 0.9527355432510376},\n",
       " {'label': 'NEU', 'score': 0.9719712734222412},\n",
       " {'label': 'NEU', 'score': 0.9115899801254272},\n",
       " {'label': 'POS', 'score': 0.9904115796089172},\n",
       " {'label': 'NEU', 'score': 0.9082379341125488},\n",
       " {'label': 'POS', 'score': 0.8017066121101379},\n",
       " {'label': 'NEU', 'score': 0.9780844449996948},\n",
       " {'label': 'NEU', 'score': 0.8754068613052368},\n",
       " {'label': 'NEU', 'score': 0.9730634689331055},\n",
       " {'label': 'NEU', 'score': 0.9624126553535461},\n",
       " {'label': 'POS', 'score': 0.790553092956543},\n",
       " {'label': 'NEU', 'score': 0.9228432178497314},\n",
       " {'label': 'NEU', 'score': 0.9050137996673584},\n",
       " {'label': 'POS', 'score': 0.9424034357070923},\n",
       " {'label': 'POS', 'score': 0.9405857920646667},\n",
       " {'label': 'NEU', 'score': 0.9104920029640198},\n",
       " {'label': 'NEU', 'score': 0.9803816080093384},\n",
       " {'label': 'NEU', 'score': 0.9454333782196045},\n",
       " {'label': 'NEU', 'score': 0.7208717465400696},\n",
       " {'label': 'POS', 'score': 0.9761384725570679},\n",
       " {'label': 'NEU', 'score': 0.8484973311424255},\n",
       " {'label': 'NEU', 'score': 0.9745896458625793},\n",
       " {'label': 'POS', 'score': 0.981088399887085},\n",
       " {'label': 'POS', 'score': 0.9509233236312866},\n",
       " {'label': 'NEU', 'score': 0.9548095464706421},\n",
       " {'label': 'NEU', 'score': 0.6648336052894592},\n",
       " {'label': 'NEU', 'score': 0.9772308468818665},\n",
       " {'label': 'NEU', 'score': 0.8111084699630737},\n",
       " {'label': 'POS', 'score': 0.9927785992622375},\n",
       " {'label': 'NEU', 'score': 0.9673355221748352},\n",
       " {'label': 'POS', 'score': 0.9925035238265991},\n",
       " {'label': 'NEU', 'score': 0.9792494177818298},\n",
       " {'label': 'NEU', 'score': 0.887339174747467},\n",
       " {'label': 'NEU', 'score': 0.6087574362754822},\n",
       " {'label': 'NEU', 'score': 0.8221349716186523},\n",
       " {'label': 'POS', 'score': 0.9090054035186768},\n",
       " {'label': 'NEU', 'score': 0.9443233013153076},\n",
       " {'label': 'NEU', 'score': 0.972324013710022},\n",
       " {'label': 'POS', 'score': 0.6009995937347412},\n",
       " {'label': 'NEU', 'score': 0.902167797088623},\n",
       " {'label': 'NEG', 'score': 0.9605842232704163},\n",
       " {'label': 'NEU', 'score': 0.7682682871818542},\n",
       " {'label': 'NEU', 'score': 0.913114070892334},\n",
       " {'label': 'POS', 'score': 0.9880056977272034}]"
      ]
     },
     "execution_count": 34,
     "metadata": {},
     "output_type": "execute_result"
    }
   ],
   "source": [
    "bert_sentiment # looking at a sample of the labelled data before cumulating summary via collections.Counter"
   ]
  },
  {
   "cell_type": "code",
   "execution_count": 26,
   "id": "6996cc58",
   "metadata": {},
   "outputs": [
    {
     "name": "stdout",
     "output_type": "stream",
     "text": [
      "29 (29.00%) of the tweets classified are positive.\n",
      "64 (64.00%) of the tweets classified are neutral.\n",
      "7 (7.00%) of the tweets classified are negative.\n"
     ]
    }
   ],
   "source": [
    "from collections import Counter\n",
    "\n",
    "tweet_distro = Counter([x['label'] for x in bert_sentiment])\n",
    "pos_sent_count = tweet_distro['POS']\n",
    "neu_sent_count = tweet_distro['NEU']\n",
    "neg_sent_count = tweet_distro['NEG']\n",
    "total_sent_count = sum(tweet_distro.values())\n",
    "\n",
    "print(f\"{pos_sent_count} ({pos_sent_count / total_sent_count * 100:.2f}%) of the tweets classified are positive.\")\n",
    "print(f\"{neu_sent_count} ({neu_sent_count / total_sent_count * 100:.2f}%) of the tweets classified are neutral.\")\n",
    "print(f\"{neg_sent_count} ({neg_sent_count / total_sent_count * 100:.2f}%) of the tweets classified are negative.\")"
   ]
  },
  {
   "attachments": {},
   "cell_type": "markdown",
   "id": "8185798d",
   "metadata": {},
   "source": [
    "❓ What do you notice about the difference in the results? \n",
    "\n",
    "\n",
    "❓ Do the results for the `bertweet-base` model look better, or worse, than the results for the `distilbert-base` model? Why?\n"
   ]
  },
  {
   "attachments": {},
   "cell_type": "markdown",
   "id": "acf79b66",
   "metadata": {},
   "source": [
    "#### ❓#1 A: \n",
    "The difference in the results between the two models `distilbert-base` and `bertweet-base` is that `distilbert-base` obviously only had two possible output labels: positive and negative. However, additionally the `distilbert-base` model seemed overconfident in it's incorrect sentiment predictions during inference. Most predictions confidence scores from the `distilbert-base` model were 99% or greater, whereas the prediction confidence scores from the `bertweet-base` model were greatly varied relative to the `distilbert-base` models variance in confidence.\n",
    "\n",
    "#### ❓#1 Summary:\n",
    "Output: \n",
    "- `distilbert-base` 2 possible outputs (2D Vector) ['POSITIVE', 'NEGATIVE'] \n",
    "- `bertweet-base` 3 possible outputs (3D Vector) ['POS', 'NEU', 'NEG']\n",
    "<br/>\n",
    "\n",
    "Variance:  \n",
    "- `distilbert-base` small variance, overconfident\n",
    "- `bertweet-base` relatively larger variance, not overconfident\n",
    "\n",
    "#### ❓#2 A: \n",
    "The results for the `bertweet-base` model look better than the results for the `distilbert-base` model. The reason why is predominantly because the `bertweet-base` model is not overconfident when it is unsure, whereas the `distilbert-base` model is not even sure when it's unsure (it always thinks it's right... even though it's wrong). This is because the `bertweet-base` has extra dimensionality (the possibility of a 'Neutral' sentiment) whereas the `distilbert-base` model lacks this additional dimension/possibility, it is more linear than the `bertweet-base` model as it just has two poles on its axis 'Positive' or 'Negative', probably a binary classification model. When dealing with models it is important to know how accurate and precise their predictions are. This is why we have metrics such as F1 scores to evaluate our models. The reason is so we know where to improve models on our next iteration of evolution, or so we are simply not wrong and make confidently wrong decisions that would have lead us to being worse off than if we just had no model at all. Sorta like a model's self-awareness / self-concious (recursively being aware about being aware). Comparing `bertweet-base` vs. `distilbert-base` F1 scores would help you quantitatively determine a winner.\n",
    "\n",
    "#### ❓#2 Summary:\n",
    "`bertweet-base` >> `distilbert-base` <br/><br/>\n",
    "Winner: \n",
    "- `bertweet-base` higher F1 score? not overzealously wrong/inaccurate. technology (and thus ml models) are tools for humans, we should know when and where our tools are lacking! 🥳🏆 \n",
    "<br/>\n",
    "\n",
    "Loser:  \n",
    "- `distilbert-base` overzealously wrong. although if you asked it yourself I bet it would tell you it's 99% sure it's the winner... 🥳🤫"
   ]
  },
  {
   "attachments": {},
   "cell_type": "markdown",
   "id": "025e7bab",
   "metadata": {},
   "source": [
    "p.s. how wrong am I? :)"
   ]
  },
  {
   "cell_type": "markdown",
   "id": "6684f9ae",
   "metadata": {},
   "source": [
    "<hr>\n",
    "\n",
    "### Partner Exercise\n",
    "\n",
    "With your partner, try and determine what the following tweets might be classified as. Try to classify them into the same groups as both of the model pipelines we saw today - and try adding a few of your own sentences/Tweets! "
   ]
  },
  {
   "cell_type": "code",
   "execution_count": 46,
   "id": "dcc55db9",
   "metadata": {},
   "outputs": [],
   "source": [
    "example_difficult_tweets = [\n",
    "    \"Kong vs Godzilla has record for most meth ever consumed in a writer's room\",\n",
    "    \"@ashleevance Battery energy density is the key to electric aircraft. Autonomy for aircraft could have been done a long time ago. Modern airliners are very close to autonomous.\",\n",
    "    \"Tesla's action is not directly reflective of my opinion. Having some Bitcoin, which is simply a less dumb form of liquidity than cash, is adventurous enough for an S&P500 company.\",\n",
    "    \"Chill dude I went to Chick-fil-A and they finally had their awesome new spicy chicken sandwich back in stock it was smoking good that shit was fire I loved it #westcoastbro\",\n",
    "    \"Uhmmmmm maybeeee it's undecided which way the senate will vote this Session. Yay? Nae? Maybe?\",\n",
    "    \"Local news covered both murder and annual festival celebration this weekend, not sure what to think\",\n",
    "    \"Mix chicken and bad voodoo hot sauce in equal parts and bake on 350, it hurts bad but damn it's delicious!\",\n",
    "    \"What is twitter even good for? Is Elon ever going to accomplish turning it into a tool for free speach or is he just gonna clean house and flip? who cares? Some do. Could be a good tool. Could remain overrated. Is this tweet over 500 characters yet? More question marks for difficult ambiguity here you go??????????\",\n",
    "    \"Suprise!!!! My son graduated elementary school today!!!!!!!!!!! YAYYYYYYYYYYYYYYYYYYY TIMMYYYYYYYYYYY!!!\",\n",
    "]\n",
    "\n",
    "# Timmy test: if that tweet isn't classified as positive the model is broken."
   ]
  },
  {
   "cell_type": "code",
   "execution_count": 47,
   "id": "3fd3d5a9",
   "metadata": {},
   "outputs": [
    {
     "name": "stdout",
     "output_type": "stream",
     "text": [
      "[{'label': 'POSITIVE', 'score': 0.5429086089134216}]\n",
      "Kong vs Godzilla has record for most meth ever consumed in a writer's room\n",
      "\n",
      "[{'label': 'NEGATIVE', 'score': 0.6348389983177185}]\n",
      "@ashleevance Battery energy density is the key to electric aircraft. Autonomy for aircraft could have been done a long time ago. Modern airliners are very close to autonomous.\n",
      "\n",
      "[{'label': 'POSITIVE', 'score': 0.9419689178466797}]\n",
      "Tesla's action is not directly reflective of my opinion. Having some Bitcoin, which is simply a less dumb form of liquidity than cash, is adventurous enough for an S&P500 company.\n",
      "\n",
      "[{'label': 'POSITIVE', 'score': 0.9981714487075806}]\n",
      "Chill dude I went to Chick-fil-A and they finally had their awesome new spicy chicken sandwich back in stock it was smoking good that shit was fire I loved it #westcoastbro\n",
      "\n",
      "[{'label': 'NEGATIVE', 'score': 0.9947628378868103}]\n",
      "Uhmmmmm maybeeee it's undecided which way the senate will vote this Session. Yay? Nae? Maybe?\n",
      "\n",
      "[{'label': 'NEGATIVE', 'score': 0.9904797673225403}]\n",
      "Local news covered both murder and annual festival celebration this weekend, not sure what to think\n",
      "\n",
      "[{'label': 'POSITIVE', 'score': 0.9990940093994141}]\n",
      "Mix chicken and bad voodoo hot sauce in equal parts and bake on 350, it hurts bad but damn it's delicious!\n",
      "\n",
      "[{'label': 'NEGATIVE', 'score': 0.999344527721405}]\n",
      "What is twitter even good for? Is Elon ever going to accomplish turning it into a tool for free speach or is he just gonna clean house and flip? who cares? Some do. Could be a good tool. Could remain overrated. Is this tweet over 500 characters yet? More question marks for difficult ambiguity here you go??????????\n",
      "\n",
      "[{'label': 'POSITIVE', 'score': 0.8215104341506958}]\n",
      "Suprise!!!! My son graduated elementary school today!!!!!!!!!!! YAYYYYYYYYYYYYYYYYYYY TIMMYYYYYYYYYYY!!!\n",
      "\n"
     ]
    }
   ],
   "source": [
    "for tweet in example_difficult_tweets[0:1000]:\n",
    "    pprint(sentiment_pipeline(tweet))\n",
    "    print(tweet + '\\n')"
   ]
  },
  {
   "cell_type": "code",
   "execution_count": 48,
   "id": "82f2d3e2",
   "metadata": {},
   "outputs": [
    {
     "name": "stdout",
     "output_type": "stream",
     "text": [
      "[{'label': 'NEG', 'score': 0.7213016152381897}]\n",
      "Kong vs Godzilla has record for most meth ever consumed in a writer's room\n",
      "\n",
      "[{'label': 'NEU', 'score': 0.8023845553398132}]\n",
      "@ashleevance Battery energy density is the key to electric aircraft. Autonomy for aircraft could have been done a long time ago. Modern airliners are very close to autonomous.\n",
      "\n",
      "[{'label': 'NEU', 'score': 0.8843538165092468}]\n",
      "Tesla's action is not directly reflective of my opinion. Having some Bitcoin, which is simply a less dumb form of liquidity than cash, is adventurous enough for an S&P500 company.\n",
      "\n",
      "[{'label': 'POS', 'score': 0.9926860332489014}]\n",
      "Chill dude I went to Chick-fil-A and they finally had their awesome new spicy chicken sandwich back in stock it was smoking good that shit was fire I loved it #westcoastbro\n",
      "\n",
      "[{'label': 'NEU', 'score': 0.9763654470443726}]\n",
      "Uhmmmmm maybeeee it's undecided which way the senate will vote this Session. Yay? Nae? Maybe?\n",
      "\n",
      "[{'label': 'NEG', 'score': 0.8535706400871277}]\n",
      "Local news covered both murder and annual festival celebration this weekend, not sure what to think\n",
      "\n",
      "[{'label': 'NEU', 'score': 0.5040503144264221}]\n",
      "Mix chicken and bad voodoo hot sauce in equal parts and bake on 350, it hurts bad but damn it's delicious!\n",
      "\n",
      "[{'label': 'NEU', 'score': 0.5415016412734985}]\n",
      "What is twitter even good for? Is Elon ever going to accomplish turning it into a tool for free speach or is he just gonna clean house and flip? who cares? Some do. Could be a good tool. Could remain overrated. Is this tweet over 500 characters yet? More question marks for difficult ambiguity here you go??????????\n",
      "\n",
      "[{'label': 'POS', 'score': 0.9927378296852112}]\n",
      "Suprise!!!! My son graduated elementary school today!!!!!!!!!!! YAYYYYYYYYYYYYYYYYYYY TIMMYYYYYYYYYYY!!!\n",
      "\n"
     ]
    }
   ],
   "source": [
    "for tweet in example_difficult_tweets[0:1000]:\n",
    "    pprint(bertweet_pipeline(tweet))\n",
    "    print(tweet + '\\n')"
   ]
  },
  {
   "cell_type": "code",
   "execution_count": 43,
   "id": "eb083bc3",
   "metadata": {},
   "outputs": [],
   "source": [
    "# really... the one time distilbert-base doesn't want to be 99% confident...\n",
    "# [{'label': 'POSITIVE', 'score': 0.8741125464439392}]\n",
    "# My son graduated elementary school today!!!!!!!!!!! YAYYYYYYYYYYYYYYYYYYY TIMMYYYYYYYYYYY!!!"
   ]
  },
  {
   "attachments": {},
   "cell_type": "markdown",
   "id": "078e33be",
   "metadata": {},
   "source": [
    "## [{'label': 'POSITIVE', 'score': <ins>__0.8741125464439392__</ins>}] 👀"
   ]
  },
  {
   "attachments": {},
   "cell_type": "markdown",
   "id": "97f2c1c5",
   "metadata": {},
   "source": [
    "❓ How did you do? Did you find any surprising results? <br/>\n",
    "You can dock me for points if I haven't made any _surprising results_ evident yet... gooooooooooooooooooooooooooooooo `distilbert-base`!!!!!!!!!! 🥳🤫 <br/>\n",
    "update to make it easier to grade: a surprising result is that for every other manually entered tweet distilbert-base had a 99% confidence score, yet for the most obvious!!!! positive tweet distilbert-base returned it's only confidence score below 99%. Perhaps the model is trained on more traditional words like from formal twitter sources but not slang like (unruly internet) people who use the internet or twitter for funnnn like \"yayyyy\" vs. a formal dictionary \"yay\" \n",
    "Also surprising that distilbert-base thinks meth and godzilla are positive when they both wreck cities and civilizations negatively. Ohh `distilbert-base` there's a special place for you 🥰🪦\n",
    "\n",
    "## 🪦 `distilbert-base` 2021-2022 🪦<br/>\"he was 99% confident there wasn't a ledge there\"\n",
    "\n",
    "❓ Are there any instances where the two models gave different predictions for the same tweet?<br/>\n",
    "Yes, the two models gave different predictions for the first three same tweets. Neither model classified the first tweet correctly, perhaps because sometimes AI model's purposely restrict their usage for explicit content they may not be trained on as much explicit content such as drugs and sex. However, the `bertweet-base` was correct over the `distilbert-base` in classifying the next two scientific related tweets <ins>'Battery energy density...'</ins> and <ins>'Tesla's action is...'</ins> as neutral. This is probably because science, tech, and tools tend to have a neutral sentiment as factual and objective statements, and the model has seen enough of these statements to accurately classify tweets of this nature into the 'Neutral' sentiment. \n",
    "\n",
    "<br/> Additionally `bertweet-base` was satisfyingly accurate at classifying Neutral tweets, yet even when numerious question marks were present `bertweet-base` it wasn't confident if the sentiment predictions were accurate \n",
    "<br/> such as with the tweet beginning with <ins>'What is twitter...'</ins> <br/> \n",
    "containing many ??? question marks. \n",
    "<br/> Additionally tweets such as <ins>'Mix chicken and bad voodoo hot sauce...\"</ins> <br/> \n",
    "containing a mix of positive words and negative words taken out of context and viewed in isolation such as the word 'bad' used as a pronoun are difficult tweets to classify. In this case only the last word gives the meaning and overall sentiment of the tweet and should be given more attention when classifying the tweet. Perhaps other transformer models may attempt to do this with their attention mechanisms?\n",
    "<br/>Overall, the `bertweet-base` model gives better predictions for the same tweet than the _legendary!!!!!!_ `distilbert-base` model when there are different predictions for the same tweet between the two models. I find it interesting the `distilbert-base` model is confident on the ambiguous tweets and not confident on the obvious tweets, perhaps because it doesn't have the output option of 'Neutral' it's just not possible to reach those places in the first place.\n"
   ]
  },
  {
   "cell_type": "code",
   "execution_count": 45,
   "id": "62956bca",
   "metadata": {},
   "outputs": [],
   "source": [
    "# Have a good day!"
   ]
  }
 ],
 "metadata": {
  "kernelspec": {
   "display_name": "twitterenv",
   "language": "python",
   "name": "python3"
  },
  "language_info": {
   "codemirror_mode": {
    "name": "ipython",
    "version": 3
   },
   "file_extension": ".py",
   "mimetype": "text/x-python",
   "name": "python",
   "nbconvert_exporter": "python",
   "pygments_lexer": "ipython3",
   "version": "3.9.15"
  },
  "vscode": {
   "interpreter": {
    "hash": "9af25484becb709dc6129f8b81345e168c29fae414617bbd31be19da9c48c367"
   }
  }
 },
 "nbformat": 4,
 "nbformat_minor": 5
}
